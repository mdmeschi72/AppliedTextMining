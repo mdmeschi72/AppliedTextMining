{
 "cells": [
  {
   "cell_type": "markdown",
   "id": "d1e34150",
   "metadata": {},
   "source": [
    "# Advanced NLP tasks with NLTK\n",
    "---\n",
    "*covering the following in the video* \n",
    "- part of speech tagging\n",
    "- parsing the sentence structure \n",
    "\n",
    "*all other nlp functions* \n",
    "- Counting words, counting frequency of words\n",
    "- finding sentence boundaries \n",
    "- identifying semantic role labeling\n",
    "- named entity recognition \n",
    "- Co-referene and pronoun resolution "
   ]
  },
  {
   "cell_type": "markdown",
   "id": "79a53fbf",
   "metadata": {},
   "source": [
    "## Part of speech (POS) tagging\n",
    "---\n",
    "* nouns verbs adjectives\n",
    "* many more tags (conjunction, cardinal, determiner, preposition, modal, possesive)"
   ]
  },
  {
   "cell_type": "code",
   "execution_count": 3,
   "id": "05f3e8d4",
   "metadata": {},
   "outputs": [
    {
     "name": "stdout",
     "output_type": "stream",
     "text": [
      "MD: modal auxiliary\n",
      "    can cannot could couldn't dare may might must need ought shall should\n",
      "    shouldn't will would\n"
     ]
    }
   ],
   "source": [
    "import nltk\n",
    "nltk.help.upenn_tagset('MD')"
   ]
  },
  {
   "cell_type": "code",
   "execution_count": 5,
   "id": "8fd2ec0a",
   "metadata": {},
   "outputs": [],
   "source": [
    "# first split sentence into words\n",
    "text11 = \"Children shoudn't drink a sugary drink before bed.\"\n",
    "text13 = nltk.word_tokenize(text11)"
   ]
  },
  {
   "cell_type": "code",
   "execution_count": 6,
   "id": "3619bf90",
   "metadata": {},
   "outputs": [
    {
     "data": {
      "text/plain": [
       "[('Children', 'NNP'),\n",
       " ('shoud', 'VBP'),\n",
       " (\"n't\", 'RB'),\n",
       " ('drink', 'VB'),\n",
       " ('a', 'DT'),\n",
       " ('sugary', 'JJ'),\n",
       " ('drink', 'NN'),\n",
       " ('before', 'IN'),\n",
       " ('bed', 'NN'),\n",
       " ('.', '.')]"
      ]
     },
     "execution_count": 6,
     "metadata": {},
     "output_type": "execute_result"
    }
   ],
   "source": [
    "# find pos - gives list of tuples \n",
    "nltk.pos_tag(text13)"
   ]
  },
  {
   "cell_type": "markdown",
   "id": "f4ec16a9",
   "metadata": {},
   "source": [
    "# Ambiguity in POS tagging\n",
    "---\n",
    "- abiguity is common in English \n",
    "\n",
    "*Visiting aunts can be a nuisance.*\n"
   ]
  },
  {
   "cell_type": "code",
   "execution_count": 7,
   "id": "064d2b78",
   "metadata": {},
   "outputs": [],
   "source": [
    "text14 = nltk.word_tokenize(\"Visiting aunts can be a nuisance.\")"
   ]
  },
  {
   "cell_type": "code",
   "execution_count": 8,
   "id": "cce10165",
   "metadata": {},
   "outputs": [
    {
     "data": {
      "text/plain": [
       "[('Visiting', 'VBG'),\n",
       " ('aunts', 'NNS'),\n",
       " ('can', 'MD'),\n",
       " ('be', 'VB'),\n",
       " ('a', 'DT'),\n",
       " ('nuisance', 'NN'),\n",
       " ('.', '.')]"
      ]
     },
     "execution_count": 8,
     "metadata": {},
     "output_type": "execute_result"
    }
   ],
   "source": [
    "nltk.pos_tag(text14)"
   ]
  },
  {
   "cell_type": "code",
   "execution_count": 9,
   "id": "cdf76c2f",
   "metadata": {},
   "outputs": [
    {
     "name": "stdout",
     "output_type": "stream",
     "text": [
      "VBG: verb, present participle or gerund\n",
      "    telegraphing stirring focusing angering judging stalling lactating\n",
      "    hankerin' alleging veering capping approaching traveling besieging\n",
      "    encrypting interrupting erasing wincing ...\n"
     ]
    }
   ],
   "source": [
    "nltk.help.upenn_tagset('VBG')"
   ]
  },
  {
   "cell_type": "code",
   "execution_count": 10,
   "id": "00f3bfe9",
   "metadata": {},
   "outputs": [
    {
     "name": "stdout",
     "output_type": "stream",
     "text": [
      "NNS: noun, common, plural\n",
      "    undergraduates scotches bric-a-brac products bodyguards facets coasts\n",
      "    divestitures storehouses designs clubs fragrances averages\n",
      "    subjectivists apprehensions muses factory-jobs ...\n"
     ]
    }
   ],
   "source": [
    "nltk.help.upenn_tagset('NNS')"
   ]
  },
  {
   "cell_type": "code",
   "execution_count": 11,
   "id": "306f48d9",
   "metadata": {},
   "outputs": [
    {
     "name": "stdout",
     "output_type": "stream",
     "text": [
      "MD: modal auxiliary\n",
      "    can cannot could couldn't dare may might must need ought shall should\n",
      "    shouldn't will would\n"
     ]
    }
   ],
   "source": [
    "nltk.help.upenn_tagset('MD')"
   ]
  },
  {
   "cell_type": "code",
   "execution_count": 12,
   "id": "67e82055",
   "metadata": {},
   "outputs": [
    {
     "name": "stdout",
     "output_type": "stream",
     "text": [
      "JJ: adjective or numeral, ordinal\n",
      "    third ill-mannered pre-war regrettable oiled calamitous first separable\n",
      "    ectoplasmic battery-powered participatory fourth still-to-be-named\n",
      "    multilingual multi-disciplinary ...\n"
     ]
    }
   ],
   "source": [
    "nltk.help.upenn_tagset('JJ')"
   ]
  },
  {
   "cell_type": "markdown",
   "id": "61806a24",
   "metadata": {},
   "source": [
    "## Parsing sentence structure"
   ]
  },
  {
   "cell_type": "code",
   "execution_count": 13,
   "id": "c2cabfe0",
   "metadata": {},
   "outputs": [],
   "source": [
    "text15 = nltk.word_tokenize(\"Alice loves Bob\")"
   ]
  },
  {
   "cell_type": "code",
   "execution_count": 14,
   "id": "77e28bec",
   "metadata": {},
   "outputs": [],
   "source": [
    "# Create context free grammar \n",
    "grammar = nltk.CFG.fromstring(\"\"\"\n",
    "S -> NP VP\n",
    "VP -> V NP\n",
    "NP -> 'Alice' | 'Bob'\n",
    "V -> 'loves'\n",
    "\"\"\")"
   ]
  },
  {
   "cell_type": "code",
   "execution_count": 15,
   "id": "9df25454",
   "metadata": {},
   "outputs": [],
   "source": [
    "parser = nltk.ChartParser(grammar)"
   ]
  },
  {
   "cell_type": "code",
   "execution_count": 17,
   "id": "f5223fd3",
   "metadata": {},
   "outputs": [],
   "source": [
    "trees = parser.parse_all(text15)"
   ]
  },
  {
   "cell_type": "code",
   "execution_count": 18,
   "id": "585c0c37",
   "metadata": {},
   "outputs": [
    {
     "name": "stdout",
     "output_type": "stream",
     "text": [
      "(S (NP Alice) (VP (V loves) (NP Bob)))\n"
     ]
    }
   ],
   "source": [
    "for tree in trees:\n",
    "    print(tree)"
   ]
  },
  {
   "cell_type": "markdown",
   "id": "31a2a6d7",
   "metadata": {},
   "source": [
    "## Ambiguity in parsing\n",
    "*I saw the man with the telescope.*\n",
    "\n",
    "- To which entity does the preposition apply?  Is it that we saw the man who had a telescope, or did we have the telescope when we saw the man"
   ]
  },
  {
   "cell_type": "code",
   "execution_count": 19,
   "id": "ee470020",
   "metadata": {},
   "outputs": [],
   "source": [
    "text16 = nltk.word_tokenize(\"I saw the man with the telescope\")"
   ]
  },
  {
   "cell_type": "code",
   "execution_count": 21,
   "id": "44736b64",
   "metadata": {},
   "outputs": [],
   "source": [
    "grammar_tel = nltk.data.load('mygrammar4.cfg')"
   ]
  },
  {
   "cell_type": "code",
   "execution_count": 22,
   "id": "d2ad074e",
   "metadata": {},
   "outputs": [
    {
     "data": {
      "text/plain": [
       "<Grammar with 13 productions>"
      ]
     },
     "execution_count": 22,
     "metadata": {},
     "output_type": "execute_result"
    }
   ],
   "source": [
    "grammar_tel"
   ]
  },
  {
   "cell_type": "code",
   "execution_count": 23,
   "id": "4a6eed0c",
   "metadata": {},
   "outputs": [],
   "source": [
    "parser = nltk.ChartParser(grammar_tel)"
   ]
  },
  {
   "cell_type": "code",
   "execution_count": 24,
   "id": "45ddb521",
   "metadata": {},
   "outputs": [],
   "source": [
    "trees = parser.parse_all(text16)"
   ]
  },
  {
   "cell_type": "code",
   "execution_count": 25,
   "id": "39e692d5",
   "metadata": {},
   "outputs": [
    {
     "data": {
      "text/plain": [
       "2"
      ]
     },
     "execution_count": 25,
     "metadata": {},
     "output_type": "execute_result"
    }
   ],
   "source": [
    "len(trees)"
   ]
  },
  {
   "cell_type": "code",
   "execution_count": 26,
   "id": "8c791ecd",
   "metadata": {},
   "outputs": [
    {
     "name": "stdout",
     "output_type": "stream",
     "text": [
      "(S\n",
      "  (NP I)\n",
      "  (VP\n",
      "    (VP (V saw) (NP (DT the) (N man)))\n",
      "    (PP (P with) (NP (DT the) (N telescope)))))\n",
      "(S\n",
      "  (NP I)\n",
      "  (VP\n",
      "    (V saw)\n",
      "    (NP (DT the) (N man) (PP (P with) (NP (DT the) (N telescope))))))\n"
     ]
    }
   ],
   "source": [
    "for tree in trees:\n",
    "    print(tree)"
   ]
  },
  {
   "cell_type": "markdown",
   "id": "5da8ac18",
   "metadata": {},
   "source": [
    "## NLTK and Parse Tree collection"
   ]
  },
  {
   "cell_type": "code",
   "execution_count": 28,
   "id": "75636fc8",
   "metadata": {},
   "outputs": [],
   "source": [
    "from nltk.corpus import treebank"
   ]
  },
  {
   "cell_type": "code",
   "execution_count": 29,
   "id": "226d98db",
   "metadata": {},
   "outputs": [],
   "source": [
    "text17 = treebank.parsed_sents('wsj_0001.mrg')[0]"
   ]
  },
  {
   "cell_type": "code",
   "execution_count": 30,
   "id": "87bd8011",
   "metadata": {},
   "outputs": [
    {
     "name": "stdout",
     "output_type": "stream",
     "text": [
      "(S\n",
      "  (NP-SBJ\n",
      "    (NP (NNP Pierre) (NNP Vinken))\n",
      "    (, ,)\n",
      "    (ADJP (NP (CD 61) (NNS years)) (JJ old))\n",
      "    (, ,))\n",
      "  (VP\n",
      "    (MD will)\n",
      "    (VP\n",
      "      (VB join)\n",
      "      (NP (DT the) (NN board))\n",
      "      (PP-CLR (IN as) (NP (DT a) (JJ nonexecutive) (NN director)))\n",
      "      (NP-TMP (NNP Nov.) (CD 29))))\n",
      "  (. .))\n"
     ]
    }
   ],
   "source": [
    "print(text17)"
   ]
  },
  {
   "cell_type": "markdown",
   "id": "d53793a6",
   "metadata": {},
   "source": [
    "# POS tagging & parsing complexity\n",
    "--- \n",
    "*Uncommon usage of words* "
   ]
  },
  {
   "cell_type": "code",
   "execution_count": 31,
   "id": "300e0d78",
   "metadata": {},
   "outputs": [],
   "source": [
    "text18 = nltk.word_tokenize(\"The old man the boat\")"
   ]
  },
  {
   "cell_type": "code",
   "execution_count": 32,
   "id": "5b89ab30",
   "metadata": {},
   "outputs": [
    {
     "data": {
      "text/plain": [
       "[('The', 'DT'), ('old', 'JJ'), ('man', 'NN'), ('the', 'DT'), ('boat', 'NN')]"
      ]
     },
     "execution_count": 32,
     "metadata": {},
     "output_type": "execute_result"
    }
   ],
   "source": [
    "nltk.pos_tag(text18)"
   ]
  },
  {
   "cell_type": "code",
   "execution_count": 33,
   "id": "8eebbb50",
   "metadata": {},
   "outputs": [],
   "source": [
    "text19 = nltk.word_tokenize(\"Colorless green ideas sleep furiously\")"
   ]
  },
  {
   "cell_type": "code",
   "execution_count": 34,
   "id": "6fa78466",
   "metadata": {},
   "outputs": [
    {
     "data": {
      "text/plain": [
       "[('Colorless', 'NNP'),\n",
       " ('green', 'JJ'),\n",
       " ('ideas', 'NNS'),\n",
       " ('sleep', 'VBP'),\n",
       " ('furiously', 'RB')]"
      ]
     },
     "execution_count": 34,
     "metadata": {},
     "output_type": "execute_result"
    }
   ],
   "source": [
    "nltk.pos_tag(text19)"
   ]
  },
  {
   "cell_type": "markdown",
   "id": "f237e073",
   "metadata": {},
   "source": [
    "# take home concepts\n",
    "---\n",
    "- POS tagging provides insights into the word classes/types in a sentence\n",
    "- parsing the grammatical sructures helps derive meaning \n",
    "- both tasks are difficult, liguistic ambiguity increases the difficulty even more \n",
    "- better models could be learned with supervised training\n",
    "- nltk provides access to tools and dadta for training "
   ]
  },
  {
   "cell_type": "markdown",
   "id": "478d8af8",
   "metadata": {},
   "source": [
    "# Classification of Text\n",
    "*Supervised learning for text* "
   ]
  },
  {
   "cell_type": "markdown",
   "id": "7e57e887",
   "metadata": {},
   "source": [
    "## What is classification? \n",
    "---\n",
    "- Given a set of classes\n",
    "- Assign class label to an input "
   ]
  },
  {
   "cell_type": "markdown",
   "id": "b159eb89",
   "metadata": {},
   "source": [
    "## Supervised Learning \n",
    "---\n",
    "- humans learn from past experiences, machines learn from past instances! \n",
    "- Training phase - model is created\n",
    "    - labled instance\n",
    "    - feed to classification algorithm \n",
    "    - Build classification model\n",
    "- Inference phase\n",
    "    - Create labels for input data \n",
    "   "
   ]
  },
  {
   "cell_type": "markdown",
   "id": "81f3c311",
   "metadata": {},
   "source": [
    "## Supervised Classification \n",
    "---\n",
    "- learn classification model on properties (\"features\") andtheirimportance (\"weights\") from labeled instances \n",
    "- X: Setof attributes or features { x1, x2, x3,...,xn) \n",
    "    - email - where does it come from\n",
    "    - text - does it contain the word 'prince' \n",
    "- y: A \"class\" label from the label set Y = {y1, y2, ...,yk}\n",
    "\n",
    "*Apply model on new instances to predict the label* "
   ]
  },
  {
   "cell_type": "markdown",
   "id": "7d0e51f3",
   "metadata": {},
   "source": [
    "## Supervised Learning - Phases and datasets\n",
    "---\n",
    "- Labeled dataset\n",
    "    - divided into training data\n",
    "    - validation data - test effectiveness of the model \n",
    "    \n",
    "- Unlabeled dataset\n",
    "    - do further testing of the model "
   ]
  },
  {
   "cell_type": "markdown",
   "id": "5290eeaf",
   "metadata": {},
   "source": [
    "# Classification paradigms\n",
    "---\n",
    "- Where there are only two possible classes; |Y| = 2: \n",
    "\n",
    "**BINARY CLASSIFICATION**\n",
    "        \n",
    "- Where there are more than two possible classes; |Y| > 2: \n",
    "\n",
    "**MULTI-CLASS CLASSIFICATION** \n",
    "        \n",
    "- When data instances can have two or more labels: \n",
    " \n",
    "**MULTI-LABEL CLASSIFICATION**"
   ]
  },
  {
   "cell_type": "markdown",
   "id": "961a2216",
   "metadata": {},
   "source": [
    "# Questions to ask in supervised learning \n",
    "---\n",
    "- Training phase\n",
    "    - what are the features?  How do you represent them?\n",
    "    - what is the classification model/algo?\n",
    "    - what are the model parameters? \n",
    "    \n",
    "- Inference Phase\n",
    "    - What is the expected performance?  What is a good measure?"
   ]
  },
  {
   "cell_type": "markdown",
   "id": "79060522",
   "metadata": {},
   "source": [
    "# Identifying features from text "
   ]
  },
  {
   "cell_type": "markdown",
   "id": "255b14d1",
   "metadata": {},
   "source": [
    "# Why is textual data unique? \n",
    "---\n",
    "- Textual data presents a unique set of challenges \n",
    "- All the information that you need is in the text \n",
    "- But features can be pulled from text at different granularities! "
   ]
  },
  {
   "cell_type": "markdown",
   "id": "2c5b6285",
   "metadata": {},
   "source": [
    "## Type of textual features (I)\n",
    "---\n",
    "- words\n",
    "    - By far the most used for features \n",
    "    - Handling commonly-occurring words: stop words\n",
    "    - Normalization: Make lower case vs.leave as-is \n",
    "    - stemming / lemmatization\n",
    "- characteristics of words\n",
    "    - captalized? \n",
    "    - parts of speach of words in a sentence \n",
    "    - gramatical structure, sentence parsing \n",
    "    - Grouping words of similar meaning (buy/purchase) - synonyms (Mr., Ms., Dr.,), dates (recognize with re) \n",
    "- depending upon classification of tasks features may come from inside words and word sequences\n",
    "    - bigrams, trigrams, n-grams: \"White House\"  \"Saturday Night Live\" \n",
    "    - character sub-sequences in words: \"ing\", \"ion\", ... "
   ]
  },
  {
   "cell_type": "markdown",
   "id": "73a42a2e",
   "metadata": {},
   "source": [
    "# Naive Bayes Classifiers"
   ]
  },
  {
   "cell_type": "markdown",
   "id": "89b6357e",
   "metadata": {},
   "source": [
    "## Case study: Classifying text search queries \n",
    "---\n",
    "- Suppose you are interested in classifying search queries in three classes: Entertainment, Computer Science, Zoology\n",
    "- Most common class is Entertainment \n",
    "- Suppose the query is \"Python\" \n",
    "    - ent? comp science?  or Zoology\n",
    "    - if snake, than zoology \n",
    "    - if python is language, then comp science\n",
    "    - if monty python, then entertainment \n",
    "    \n",
    "*If most common label with word python is zoology, then that becomes the classification* \n",
    "*If next word after python is download, than it is classified as computer science* \n",
    "\n",
    "    "
   ]
  },
  {
   "cell_type": "markdown",
   "id": "486f38d7",
   "metadata": {},
   "source": [
    "# Probabilistic Model \n",
    "--- \n",
    "- Update the likelyhood of the class given new information \n",
    "- Prior probability: Pr(y=Entertainment), Pr(y=CS), Pr(y=Zoology) \n",
    "- Posterior probability: Pr(y=Entertainment|x=\"Python\") \n",
    "*Note that posterior probability is after evaulating new information* "
   ]
  },
  {
   "cell_type": "markdown",
   "id": "ea06ef15",
   "metadata": {},
   "source": [
    "## Baye's Rule \n",
    "---\n",
    "- Posterior probability = (prior probability x likelihood)/Evidence\n",
    "- Pr(y|X) = ( Pr(y) x Pr(X|y))/Pr(X)\n",
    "\n",
    "## Naive Baye's Classification \n",
    "---\n",
    "- probability of computer science as class given the word \"Python\" \n",
    "- in math, shows as Pr(y=CS|\"Python\") = ( Pr(y=CS) *  Pr(\"Python\"|y=CS) )/ Pr(\"Python\") \n",
    "- below probability that word \"Python\" should be labeled zoology: \n",
    "- Pr(y=Zoology|Python) = ( Pr(y=Zoology) * Pr(\"Python\" | y = Zoology) )/Pr(\"Python\") \n",
    "\n",
    "*if Pr(y=CS|\"Python\") > Pr(y=Zoology|\"Python\") - then label, y, is CS* "
   ]
  },
  {
   "cell_type": "markdown",
   "id": "6ea6b5a4",
   "metadata": {},
   "source": [
    "## Naive assumption \n",
    "*Given the class label, features are assumed to beindependent of each other* \n",
    "\n",
    "`argmax Pr(y|X) = argmax Pr(y) * Pr(X|y)`\n",
    "\n",
    "final formula for query \"Python download\"  y is classification\n",
    "\n",
    "`y = argmax Pr(y) * Pr(\"Python\"|y)* Pr(\"download\"|y)`"
   ]
  },
  {
   "cell_type": "markdown",
   "id": "287b6d0c",
   "metadata": {},
   "source": [
    "# Naive Bayes: What are the parameters? \n",
    "---\n",
    "- Prior probabilities: Pr(y) for all y in Y \n",
    "- Likelihood - seeing a feature in documents of class y: Pr(xi|y) for all features xi and labels y in Y \n",
    "- If there are 3 classes and 100 possible features (all features are binary), how many parameters: \n",
    "\n",
    "3 + (2 * 100 * 3) - 3 class probabilities plus 100 features times 3 labels times 2 because each feature is binary\n"
   ]
  },
  {
   "cell_type": "markdown",
   "id": "f6a8cd08",
   "metadata": {},
   "source": [
    "## Naive Bayes: Learning parmeters\n",
    "\n",
    "- probability of entertainment?  \n",
    "    - training data - count number in each of the classes \n",
    "    - N instances in all, and n out of those are labeled as class, y -> Pr(y) = n/N <simple> \n",
    "\n",
    "- likelyhood: Pr(xi|y) for all features xi and labels y in Y \n",
    "    - count numberof timesfeature xi appears instances labeled as class y \n",
    "    - if there are p instances of class t, and xi appears in k of those, P(xi|y) = k/p\n"
   ]
  },
  {
   "cell_type": "markdown",
   "id": "310aabb8",
   "metadata": {},
   "source": [
    "# Naive Bayes: Smoothing \n",
    "\n",
    "---\n",
    "\n",
    "*What happens if (Pr(xi|y) = 0?*\n",
    "\n",
    "- feature xi never occurs in documents labeled y \n",
    "- but then posterior probability Pr(y|xi) will be 0! \n",
    "\n",
    "**Instead, smooth the parameters** \n",
    "\n",
    "- Laplace smoothing or additive smoothing: Add a dummy count \n",
    "    - add count of 1 for all pr(y|xi) \n",
    "    - Pr(xi|y)=(k+1)/(p+n); where n is number of features \n"
   ]
  },
  {
   "cell_type": "markdown",
   "id": "6c372e9d",
   "metadata": {},
   "source": [
    "# Take home concepts \n",
    "---\n",
    "- Naive Bayes is a probabilistic model\n",
    "- Naive because itassumes features are independent of each other, given the class label. \n",
    "- For text classification problems, naive baye smodels typically provide very strong baselines. \n",
    "- Simple model to learn, easy to learn parameters "
   ]
  },
  {
   "cell_type": "markdown",
   "id": "84a81a31",
   "metadata": {},
   "source": [
    "## Two classic Naive Bayes Variants for Text \n",
    "---\n",
    "- Multinomial Naive Bayes \n",
    "    - Data follows multinomial distribution (when you have features, you can have multiple instances per each feature) \n",
    "    - Each feature value is acount (wrd occurrence counts, TF-IDF weighting, ... ) \n",
    "    - If you say number of times a word occurs, keep track of frequency of words, more importance to rare words. \n",
    "- Buernuli Naive Bayes \n",
    "    - Data follows multivariate Bernoulli distribution \n",
    "    - Each feature is binary (word is present/absent) "
   ]
  },
  {
   "cell_type": "markdown",
   "id": "c471182b",
   "metadata": {},
   "source": [
    "# Support Vector Machines \n"
   ]
  }
 ],
 "metadata": {
  "kernelspec": {
   "display_name": "Python 3",
   "language": "python",
   "name": "python3"
  },
  "language_info": {
   "codemirror_mode": {
    "name": "ipython",
    "version": 3
   },
   "file_extension": ".py",
   "mimetype": "text/x-python",
   "name": "python",
   "nbconvert_exporter": "python",
   "pygments_lexer": "ipython3",
   "version": "3.8.8"
  }
 },
 "nbformat": 4,
 "nbformat_minor": 5
}
