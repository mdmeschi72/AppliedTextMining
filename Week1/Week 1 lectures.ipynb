{
 "cells": [
  {
   "cell_type": "code",
   "execution_count": 1,
   "id": "88772be5",
   "metadata": {},
   "outputs": [
    {
     "name": "stdout",
     "output_type": "stream",
     "text": [
      "Requirement already satisfied: scikit-learn in c:\\users\\mdmes\\anaconda3\\lib\\site-packages (0.24.1)\n",
      "Requirement already satisfied: numpy>=1.13.3 in c:\\users\\mdmes\\anaconda3\\lib\\site-packages (from scikit-learn) (1.20.1)\n",
      "Requirement already satisfied: threadpoolctl>=2.0.0 in c:\\users\\mdmes\\anaconda3\\lib\\site-packages (from scikit-learn) (2.1.0)\n",
      "Requirement already satisfied: scipy>=0.19.1 in c:\\users\\mdmes\\anaconda3\\lib\\site-packages (from scikit-learn) (1.6.2)\n",
      "Requirement already satisfied: joblib>=0.11 in c:\\users\\mdmes\\anaconda3\\lib\\site-packages (from scikit-learn) (1.0.1)\n",
      "Note: you may need to restart the kernel to use updated packages.\n"
     ]
    }
   ],
   "source": [
    "pip install scikit-learn"
   ]
  },
  {
   "cell_type": "markdown",
   "id": "9110ded0",
   "metadata": {},
   "source": [
    "# Primitive contructs in Text\n",
    "- Sentences - input strings\n",
    "- Words or tokens\n",
    "- characters\n",
    "- Document,larger files \n"
   ]
  },
  {
   "cell_type": "code",
   "execution_count": 2,
   "id": "102f23de",
   "metadata": {},
   "outputs": [],
   "source": [
    "text1 = \"Ethics are build right into the ideals and objectives of the United Nations \""
   ]
  },
  {
   "cell_type": "code",
   "execution_count": 3,
   "id": "e058cd90",
   "metadata": {},
   "outputs": [
    {
     "data": {
      "text/plain": [
       "76"
      ]
     },
     "execution_count": 3,
     "metadata": {},
     "output_type": "execute_result"
    }
   ],
   "source": [
    "len(text1)"
   ]
  },
  {
   "cell_type": "code",
   "execution_count": 4,
   "id": "7fb49352",
   "metadata": {},
   "outputs": [],
   "source": [
    "text2 = text1.split(' ')"
   ]
  },
  {
   "cell_type": "code",
   "execution_count": 5,
   "id": "7935f471",
   "metadata": {},
   "outputs": [
    {
     "data": {
      "text/plain": [
       "['Ethics',\n",
       " 'are',\n",
       " 'build',\n",
       " 'right',\n",
       " 'into',\n",
       " 'the',\n",
       " 'ideals',\n",
       " 'and',\n",
       " 'objectives',\n",
       " 'of',\n",
       " 'the',\n",
       " 'United',\n",
       " 'Nations',\n",
       " '']"
      ]
     },
     "execution_count": 5,
     "metadata": {},
     "output_type": "execute_result"
    }
   ],
   "source": [
    "text2"
   ]
  },
  {
   "cell_type": "code",
   "execution_count": 7,
   "id": "4614f19a",
   "metadata": {},
   "outputs": [
    {
     "data": {
      "text/plain": [
       "['Ethics',\n",
       " 'build',\n",
       " 'right',\n",
       " 'into',\n",
       " 'ideals',\n",
       " 'objectives',\n",
       " 'United',\n",
       " 'Nations']"
      ]
     },
     "execution_count": 7,
     "metadata": {},
     "output_type": "execute_result"
    }
   ],
   "source": [
    "# words that are more than three characters long \n",
    "\n",
    "[w for w in text2 if len(w) > 3 ]"
   ]
  },
  {
   "cell_type": "code",
   "execution_count": 8,
   "id": "a430bc53",
   "metadata": {},
   "outputs": [
    {
     "data": {
      "text/plain": [
       "['Ethics', 'United', 'Nations']"
      ]
     },
     "execution_count": 8,
     "metadata": {},
     "output_type": "execute_result"
    }
   ],
   "source": [
    "# capitalized words \n",
    "\n",
    "[w for w in text2 if w.istitle()]"
   ]
  },
  {
   "cell_type": "code",
   "execution_count": 11,
   "id": "b3531be1",
   "metadata": {},
   "outputs": [
    {
     "data": {
      "text/plain": [
       "['Ethics', 'ideals', 'objectives', 'Nations']"
      ]
     },
     "execution_count": 11,
     "metadata": {},
     "output_type": "execute_result"
    }
   ],
   "source": [
    "#words that end with s \n",
    "[w for w in text2 if w .endswith('s')]"
   ]
  },
  {
   "cell_type": "markdown",
   "id": "2be83ac0",
   "metadata": {},
   "source": [
    "**Use set() function to find unique words.  Be sure to use to <string>.to_lower() prior to analysis**"
   ]
  },
  {
   "cell_type": "code",
   "execution_count": 12,
   "id": "46cd24f9",
   "metadata": {},
   "outputs": [],
   "source": [
    "# set function for unique words\n",
    "text3 = 'To be or not to be'"
   ]
  },
  {
   "cell_type": "code",
   "execution_count": 13,
   "id": "6afb2311",
   "metadata": {},
   "outputs": [],
   "source": [
    "text4 = text3.split(' ')"
   ]
  },
  {
   "cell_type": "code",
   "execution_count": 14,
   "id": "a10d06e1",
   "metadata": {},
   "outputs": [
    {
     "data": {
      "text/plain": [
       "['To', 'be', 'or', 'not', 'to', 'be']"
      ]
     },
     "execution_count": 14,
     "metadata": {},
     "output_type": "execute_result"
    }
   ],
   "source": [
    "text4"
   ]
  },
  {
   "cell_type": "code",
   "execution_count": 15,
   "id": "98431533",
   "metadata": {},
   "outputs": [
    {
     "data": {
      "text/plain": [
       "5"
      ]
     },
     "execution_count": 15,
     "metadata": {},
     "output_type": "execute_result"
    }
   ],
   "source": [
    "len(set(text4))"
   ]
  },
  {
   "cell_type": "code",
   "execution_count": 16,
   "id": "a8db4763",
   "metadata": {},
   "outputs": [
    {
     "data": {
      "text/plain": [
       "4"
      ]
     },
     "execution_count": 16,
     "metadata": {},
     "output_type": "execute_result"
    }
   ],
   "source": [
    "# use lower to make all words equal \n",
    "len(set([w.lower() for w in text4]))"
   ]
  },
  {
   "cell_type": "code",
   "execution_count": 17,
   "id": "aeac9647",
   "metadata": {},
   "outputs": [
    {
     "name": "stdout",
     "output_type": "stream",
     "text": [
      "{'be', 'or', 'not', 'to'}\n"
     ]
    }
   ],
   "source": [
    "print(set([w.lower() for w in text4]))"
   ]
  },
  {
   "cell_type": "markdown",
   "id": "6bdde24f",
   "metadata": {},
   "source": [
    "# Some word comparison functions\n",
    "---\n",
    "- s.startswith(t)\n",
    "- s.endswith(t)\n",
    "- t in s\n",
    "- s.isupper(); s.islower(); s.istitle()\n",
    "- s.isalpha(); s.isdifit(); s.isalnum()"
   ]
  },
  {
   "cell_type": "markdown",
   "id": "7ae4f8b8",
   "metadata": {},
   "source": [
    "# String operations \n",
    "---\n",
    "- s.lower(); s.upper(); s.titlecase()\n",
    "- s.split(t)\n",
    "- s.splitlines() # splits on newline character \n",
    "- s.join(t) # opposite of splitting,take the words in array and join \n",
    "- s.strip(); s.rstrip\n",
    "- s.find(t); s.rfind(t)\n",
    "- s.replace(u,v)"
   ]
  },
  {
   "cell_type": "markdown",
   "id": "c3e4da32",
   "metadata": {},
   "source": [
    "# From Words to Characters\n"
   ]
  },
  {
   "cell_type": "code",
   "execution_count": 18,
   "id": "a96c76cf",
   "metadata": {},
   "outputs": [],
   "source": [
    "text5 = 'ouagadougou'"
   ]
  },
  {
   "cell_type": "code",
   "execution_count": 23,
   "id": "b768d309",
   "metadata": {},
   "outputs": [],
   "source": [
    "text6 = text5.split('ou')"
   ]
  },
  {
   "cell_type": "code",
   "execution_count": 25,
   "id": "f87a6045",
   "metadata": {},
   "outputs": [
    {
     "data": {
      "text/plain": [
       "['', 'agad', 'g', '']"
      ]
     },
     "execution_count": 25,
     "metadata": {},
     "output_type": "execute_result"
    }
   ],
   "source": [
    "text6"
   ]
  },
  {
   "cell_type": "code",
   "execution_count": 26,
   "id": "1514c234",
   "metadata": {},
   "outputs": [
    {
     "data": {
      "text/plain": [
       "'ouagadougou'"
      ]
     },
     "execution_count": 26,
     "metadata": {},
     "output_type": "execute_result"
    }
   ],
   "source": [
    "'ou'.join(text6)"
   ]
  },
  {
   "cell_type": "markdown",
   "id": "b8fac6e8",
   "metadata": {},
   "source": [
    "## Two ways to give you charactes from words"
   ]
  },
  {
   "cell_type": "code",
   "execution_count": 27,
   "id": "d341c877",
   "metadata": {},
   "outputs": [
    {
     "data": {
      "text/plain": [
       "['o', 'u', 'a', 'g', 'a', 'd', 'o', 'u', 'g', 'o', 'u']"
      ]
     },
     "execution_count": 27,
     "metadata": {},
     "output_type": "execute_result"
    }
   ],
   "source": [
    "# first way \n",
    "\n",
    "list(text5)"
   ]
  },
  {
   "cell_type": "code",
   "execution_count": 28,
   "id": "e72dbde2",
   "metadata": {},
   "outputs": [
    {
     "data": {
      "text/plain": [
       "['o', 'u', 'a', 'g', 'a', 'd', 'o', 'u', 'g', 'o', 'u']"
      ]
     },
     "execution_count": 28,
     "metadata": {},
     "output_type": "execute_result"
    }
   ],
   "source": [
    "#second way \n",
    "[c for c in text5]"
   ]
  },
  {
   "cell_type": "markdown",
   "id": "f10e0200",
   "metadata": {},
   "source": [
    "# Cleaning text"
   ]
  },
  {
   "cell_type": "code",
   "execution_count": 30,
   "id": "77119fd7",
   "metadata": {},
   "outputs": [],
   "source": [
    "text8 = '    A quick brown fox jumped over the lazy dog. '"
   ]
  },
  {
   "cell_type": "code",
   "execution_count": 31,
   "id": "1dbcae1a",
   "metadata": {},
   "outputs": [
    {
     "data": {
      "text/plain": [
       "['',\n",
       " '',\n",
       " '',\n",
       " '',\n",
       " 'A',\n",
       " 'quick',\n",
       " 'brown',\n",
       " 'fox',\n",
       " 'jumped',\n",
       " 'over',\n",
       " 'the',\n",
       " 'lazy',\n",
       " 'dog.',\n",
       " '']"
      ]
     },
     "execution_count": 31,
     "metadata": {},
     "output_type": "execute_result"
    }
   ],
   "source": [
    "# you get white spaces \n",
    "text8.split(' ')"
   ]
  },
  {
   "cell_type": "code",
   "execution_count": 32,
   "id": "f6d0913d",
   "metadata": {},
   "outputs": [],
   "source": [
    "text9 = text8.strip().split(' ')"
   ]
  },
  {
   "cell_type": "code",
   "execution_count": 33,
   "id": "b5cdb9d0",
   "metadata": {},
   "outputs": [
    {
     "data": {
      "text/plain": [
       "['A', 'quick', 'brown', 'fox', 'jumped', 'over', 'the', 'lazy', 'dog.']"
      ]
     },
     "execution_count": 33,
     "metadata": {},
     "output_type": "execute_result"
    }
   ],
   "source": [
    "text9"
   ]
  },
  {
   "cell_type": "markdown",
   "id": "206eb089",
   "metadata": {},
   "source": [
    "## Changing Text "
   ]
  },
  {
   "cell_type": "code",
   "execution_count": 37,
   "id": "a026932a",
   "metadata": {},
   "outputs": [
    {
     "data": {
      "text/plain": [
       "10"
      ]
     },
     "execution_count": 37,
     "metadata": {},
     "output_type": "execute_result"
    }
   ],
   "source": [
    "# find and replace \n",
    "text8.strip().find('o')"
   ]
  },
  {
   "cell_type": "code",
   "execution_count": 39,
   "id": "f724b44a",
   "metadata": {},
   "outputs": [
    {
     "data": {
      "text/plain": [
       "40"
      ]
     },
     "execution_count": 39,
     "metadata": {},
     "output_type": "execute_result"
    }
   ],
   "source": [
    "# note that reverse find looks from the end of the string going backwards. \n",
    "text8.strip().rfind('o')"
   ]
  },
  {
   "cell_type": "code",
   "execution_count": 40,
   "id": "ab094cea",
   "metadata": {},
   "outputs": [
    {
     "data": {
      "text/plain": [
       "'A quick brOwn fOx jumped Over the lazy dOg.'"
      ]
     },
     "execution_count": 40,
     "metadata": {},
     "output_type": "execute_result"
    }
   ],
   "source": [
    "text8.strip().replace('o','O')"
   ]
  },
  {
   "cell_type": "markdown",
   "id": "170a061c",
   "metadata": {},
   "source": [
    "# Handling larger texts\n"
   ]
  },
  {
   "cell_type": "markdown",
   "id": "f4655790",
   "metadata": {},
   "source": [
    "**reading files by line**"
   ]
  },
  {
   "cell_type": "code",
   "execution_count": 42,
   "id": "9ef6759d",
   "metadata": {},
   "outputs": [
    {
     "ename": "FileNotFoundError",
     "evalue": "[Errno 2] No such file or directory: 'UNDHR.txt'",
     "output_type": "error",
     "traceback": [
      "\u001b[1;31m---------------------------------------------------------------------------\u001b[0m",
      "\u001b[1;31mFileNotFoundError\u001b[0m                         Traceback (most recent call last)",
      "\u001b[1;32m<ipython-input-42-f7e5489bcc0a>\u001b[0m in \u001b[0;36m<module>\u001b[1;34m\u001b[0m\n\u001b[1;32m----> 1\u001b[1;33m \u001b[0mf\u001b[0m \u001b[1;33m=\u001b[0m \u001b[0mopen\u001b[0m\u001b[1;33m(\u001b[0m\u001b[1;34m'UNDHR.txt'\u001b[0m\u001b[1;33m,\u001b[0m\u001b[1;34m'r'\u001b[0m\u001b[1;33m)\u001b[0m\u001b[1;33m\u001b[0m\u001b[1;33m\u001b[0m\u001b[0m\n\u001b[0m\u001b[0;32m      2\u001b[0m \u001b[0mf\u001b[0m\u001b[1;33m.\u001b[0m\u001b[0mreadline\u001b[0m\u001b[1;33m(\u001b[0m\u001b[1;33m)\u001b[0m  \u001b[1;31m# reads the first line\u001b[0m\u001b[1;33m\u001b[0m\u001b[1;33m\u001b[0m\u001b[0m\n",
      "\u001b[1;31mFileNotFoundError\u001b[0m: [Errno 2] No such file or directory: 'UNDHR.txt'"
     ]
    }
   ],
   "source": [
    "f = open('UNDHR.txt','r')\n",
    "f.readline()  # reads the first line "
   ]
  },
  {
   "cell_type": "code",
   "execution_count": null,
   "id": "382e2abe",
   "metadata": {},
   "outputs": [],
   "source": [
    "# read full file \n",
    ".fseet() # brings to beginning of file \n",
    "text12 = f.read()\n",
    "\n",
    "len(text12)\n",
    "text13 = text12.splitlines()\n"
   ]
  },
  {
   "cell_type": "markdown",
   "id": "f40fdc2d",
   "metadata": {},
   "source": [
    "# File Operations\n",
    "---\n",
    "- `f = open(filenam,mode)`)\n",
    "- `f.readline(); f.read(); f.read(n)`\n",
    "- `for ine in f: doSomething(line)`\n",
    "- `f.seek(n)`  # finds text\n",
    "- `f.write(message)` # writes to file as long as file is opened in write mode \n",
    "- `f.close()`  # closes the file handle \n",
    "- `f.closed` # checks to see if file is closed "
   ]
  },
  {
   "cell_type": "code",
   "execution_count": null,
   "id": "15e67fee",
   "metadata": {},
   "outputs": [],
   "source": [
    "#rstrip to remove characters from the end of the string \n",
    "f = open('UNDHR.txt', 'r')\n",
    "\n",
    "# can be read with\\n.  To remove, use rstrip - removes from end sentence. \n",
    "text 14 = f.readline()\n",
    "\n",
    "text14.rstrip()"
   ]
  },
  {
   "cell_type": "markdown",
   "id": "3dbe90ff",
   "metadata": {},
   "source": [
    "# Take home concepts\n",
    "---\n",
    "- handling text sentences\n",
    "- splitting sentences into words, words into characters\n",
    "- finding unique words\n",
    "- Handling text from documents"
   ]
  },
  {
   "cell_type": "markdown",
   "id": "4d918e88",
   "metadata": {},
   "source": [
    "# Regular Expressions"
   ]
  },
  {
   "cell_type": "code",
   "execution_count": 1,
   "id": "35eb3101",
   "metadata": {},
   "outputs": [],
   "source": [
    "text10 = ' \"Ethics are built right into the ideals and objectives of the United Nations\" #UNSG @ NY Society for Ethical Culture bit.ly/2guVelr @UN @UN_Women'\n"
   ]
  },
  {
   "cell_type": "code",
   "execution_count": 2,
   "id": "57796d31",
   "metadata": {},
   "outputs": [],
   "source": [
    "#find hashtags and callouts - \n",
    "#first, you have to split into individual words. \n",
    "\n",
    "tokens = text10.strip().split(' ')"
   ]
  },
  {
   "cell_type": "code",
   "execution_count": 3,
   "id": "0f0a1859",
   "metadata": {},
   "outputs": [
    {
     "data": {
      "text/plain": [
       "['\"Ethics',\n",
       " 'are',\n",
       " 'built',\n",
       " 'right',\n",
       " 'into',\n",
       " 'the',\n",
       " 'ideals',\n",
       " 'and',\n",
       " 'objectives',\n",
       " 'of',\n",
       " 'the',\n",
       " 'United',\n",
       " 'Nations\"',\n",
       " '#UNSG',\n",
       " '@',\n",
       " 'NY',\n",
       " 'Society',\n",
       " 'for',\n",
       " 'Ethical',\n",
       " 'Culture',\n",
       " 'bit.ly/2guVelr',\n",
       " '@UN',\n",
       " '@UN_Women']"
      ]
     },
     "execution_count": 3,
     "metadata": {},
     "output_type": "execute_result"
    }
   ],
   "source": [
    "tokens"
   ]
  },
  {
   "cell_type": "markdown",
   "id": "53c6855d",
   "metadata": {},
   "source": [
    "# Finding specific words\n",
    "---\n",
    "- Hashtages `[w for w in tokens if w.startswith('#')]`\n",
    "- Callouts `[w for w in tokens if w.startswith('@')]`\n",
    "**Works better with regular expression**\n",
    "---\n",
    "- `import re`\n",
    "- `[ w for w in tokens if re.search('@[A-Za-z0-9_]+', w)]`\n",
    "\n",
    "*The above does not return loan '@' char.  Only @ chars with text that follows* \n",
    "\n"
   ]
  },
  {
   "cell_type": "markdown",
   "id": "03f44de3",
   "metadata": {},
   "source": [
    "# Metacharacters : Character matches \n",
    "---\n",
    "- . :wild card, matches a single char\n",
    "- ^ :start of a string\n",
    "- dollar sign :end of a string\n",
    "- [] :matches set of characters\n",
    "- [a-z]: matchates one of the range of characters a - z \n",
    "- [^abc] :matches a character that is not a, b or c \n",
    "- a|b :matches a or b \n",
    "- () :scoping for operators\n",
    "- \\ :Escape char for special characters (\\t,\\n,\\b)\n"
   ]
  },
  {
   "cell_type": "markdown",
   "id": "74db28e5",
   "metadata": {},
   "source": [
    "# Meta-characters : Character symbols\n",
    "---\n",
    "- \\b :matches word boundary \n",
    "- \\d :any digit equivilant to [0-9]\n",
    "- \\D :any non digit, equivilant to [^0-9]\n",
    "- \\s :an whitespace, equivalent to [ \\t\\n\\r\\f\\v]\n",
    "- \\S :any non whitespace character, equivilant to [^ \\t\\n\\r\\f\\v]\n",
    "- \\w :alpha numeric character, equivilant to [a-zA-Z0-9_]\n",
    "- \\W :matches any non alpha numeric character [^a-zA-Z0-9_]\n"
   ]
  },
  {
   "cell_type": "markdown",
   "id": "0996254a",
   "metadata": {},
   "source": [
    "# Meta-characters: Repetitions\n",
    "---\n",
    "- '*' : matches zero or more occurrences\n",
    "- '+' :matches one or more occurrences\n",
    "- ? :matches zero or one occurrences\n",
    "- {n} :matches exacly n repetitions, n>0\n",
    "- {n,} : at least n repetitions \n",
    "- {,n} : at most n reptitions \n",
    "- {m,n} : at least m and at most n repitions "
   ]
  },
  {
   "cell_type": "code",
   "execution_count": 5,
   "id": "0bbb2861",
   "metadata": {},
   "outputs": [
    {
     "data": {
      "text/plain": [
       "['@UN', '@UN_Women']"
      ]
     },
     "execution_count": 5,
     "metadata": {},
     "output_type": "execute_result"
    }
   ],
   "source": [
    "# the below two lines of code yield equivialent results \n",
    "import re\n",
    "[ w for w in tokens if re.search('@[A-Za-z0-9_]+', w)]"
   ]
  },
  {
   "cell_type": "code",
   "execution_count": 6,
   "id": "0dc726e1",
   "metadata": {},
   "outputs": [
    {
     "data": {
      "text/plain": [
       "['@UN', '@UN_Women']"
      ]
     },
     "execution_count": 6,
     "metadata": {},
     "output_type": "execute_result"
    }
   ],
   "source": [
    "[ w for w in tokens if re.search('@\\w', w)]"
   ]
  },
  {
   "cell_type": "code",
   "execution_count": 7,
   "id": "d7b6e29a",
   "metadata": {},
   "outputs": [
    {
     "data": {
      "text/plain": [
       "['o', 'u', 'a', 'a', 'o', 'u', 'o', 'u']"
      ]
     },
     "execution_count": 7,
     "metadata": {},
     "output_type": "execute_result"
    }
   ],
   "source": [
    "# find specific characters (vowels): \n",
    "\n",
    "t = 'ouagadougou'\n",
    "re.findall(r'[aeiou]', t)"
   ]
  },
  {
   "cell_type": "code",
   "execution_count": 8,
   "id": "cad6dd1c",
   "metadata": {},
   "outputs": [
    {
     "data": {
      "text/plain": [
       "['g', 'd', 'g']"
      ]
     },
     "execution_count": 8,
     "metadata": {},
     "output_type": "execute_result"
    }
   ],
   "source": [
    "# find specific characters (non vowels)\n",
    "\n",
    "re.findall(r'[^aeiou]', t)"
   ]
  },
  {
   "cell_type": "markdown",
   "id": "d4c455cc",
   "metadata": {},
   "source": [
    "# Regular expressions for dates \n"
   ]
  },
  {
   "cell_type": "code",
   "execution_count": 29,
   "id": "f768d8a1",
   "metadata": {},
   "outputs": [
    {
     "data": {
      "text/plain": [
       "['23-10-2002', '23/10/2002', '23/10/02', '10/23/2002']"
      ]
     },
     "execution_count": 29,
     "metadata": {},
     "output_type": "execute_result"
    }
   ],
   "source": [
    "#date variations for 23rd Otober 2002 \n",
    "\n",
    "#23-10-2002\n",
    "#23/10/2002\n",
    "#10/23/2002\n",
    "#23 Oct 2002\n",
    "#23 October 2002\n",
    "#Oct 23, 2002\n",
    "#October 23, 2002\n",
    "\n",
    "datestr = '23-10-2002\\n23/10/2002\\n23/10/02\\n10/23/2002\\n23 Oct 2002\\n23 October 2002\\nOct 23, 2002\\nOctober 23, 2002\\n'\n",
    "# find numeric dates\n",
    "re.findall(r'\\d{1,2}[/-]\\d{1,2}[/-]\\d{2,4}', datestr)"
   ]
  },
  {
   "cell_type": "code",
   "execution_count": 34,
   "id": "906abd46",
   "metadata": {},
   "outputs": [
    {
     "data": {
      "text/plain": [
       "['23 Oct 2002', '23 October 2002']"
      ]
     },
     "execution_count": 34,
     "metadata": {},
     "output_type": "execute_result"
    }
   ],
   "source": [
    "# enhance to include those starting with numeric but having text as well \n",
    "re.findall(r'\\d{1,2} (?:Jan|Feb|Mar|Apr|May|Jun|Jul|Aug|Sep|Oct|Nov|Dec)[a-z]* \\d{4}', datestr)"
   ]
  },
  {
   "cell_type": "code",
   "execution_count": 31,
   "id": "2d7b6463",
   "metadata": {},
   "outputs": [
    {
     "data": {
      "text/plain": [
       "['Oct 23, 2002', 'October 23, 2002']"
      ]
     },
     "execution_count": 31,
     "metadata": {},
     "output_type": "execute_result"
    }
   ],
   "source": [
    "# find dates with text \n",
    "\n",
    "re.findall(r'[A-Za-z]{3,8}\\s\\d{1,2},\\s\\d{4}', datestr)"
   ]
  },
  {
   "cell_type": "code",
   "execution_count": 36,
   "id": "3dfcc7f9",
   "metadata": {},
   "outputs": [
    {
     "data": {
      "text/plain": [
       "['23 Oct 2002', '23 October 2002', 'Oct 23, 2002', 'October 23, 2002']"
      ]
     },
     "execution_count": 36,
     "metadata": {},
     "output_type": "execute_result"
    }
   ],
   "source": [
    "# find all dates with text (don't understand this one )\n",
    "\n",
    "re.findall(r'(?:\\d{1,2} )?(?:Jan|Feb|Mar|Apr|May|Jun|Jul|Aug|Sep|Oct|Nov|Dec)[a-z]* (?:\\d{2}, )?\\d{4}', datestr)"
   ]
  },
  {
   "cell_type": "markdown",
   "id": "d1bc2927",
   "metadata": {},
   "source": [
    "# Takeaway \n",
    "---\n",
    "- what are regular expressions\n",
    "- regular expression meta-characters\n",
    "- building a regulare expression to identify dates "
   ]
  },
  {
   "cell_type": "markdown",
   "id": "062364ec",
   "metadata": {},
   "source": [
    "# Internationalization "
   ]
  },
  {
   "cell_type": "markdown",
   "id": "bc7603f9",
   "metadata": {},
   "source": [
    "# English and ASCII\n",
    "---\n",
    "**ASCII**\n",
    "- 7 bit character encoing standar 128 random \n",
    "- Include alphabets (upper and lower cases), digits, pnctuations, cmmon symbols, control characters\n",
    "\n"
   ]
  },
  {
   "cell_type": "markdown",
   "id": "64147e2c",
   "metadata": {},
   "source": [
    "**diacritics**\n",
    "\n",
    "---\n",
    "- resume vs. resume with mark over e \n",
    "- naive vs naive (marks over i) \n",
    "---\n",
    "\n",
    "**International Languages**\n",
    "- music notes\n",
    "- emojis \n",
    "- Latin: 36%\n",
    "- Chinese: 18%\n",
    "- Devanagari: 14%\n",
    "- Arabic: 14%\n",
    "- Cyrillic: 4%\n",
    "- Dravidian: 3.5%\n",
    "\n",
    "*we need more bits than ASCII!*"
   ]
  },
  {
   "cell_type": "markdown",
   "id": "7dd69765",
   "metadata": {},
   "source": [
    "# Other Character Encodings\n",
    "---\n",
    "- IBM EBCDIC\n",
    "- Latin-I\n",
    "- JIS: Japanese industrial standards \n",
    "- CCCII: Chinese Character Code for Information Interchange\n",
    "- EUC: Extended Unix Code \n",
    "- NUmberous other national standards"
   ]
  },
  {
   "cell_type": "markdown",
   "id": "968555a8",
   "metadata": {},
   "source": [
    "# Unicode and UTF-8\n",
    "\n",
    "*International standard* \n",
    "*Unicode Transformational Format - 8 bits* \n",
    "*backwards compatible with ASCII* \n",
    "*Default in python3 - not python2* \n",
    "\n",
    "**IN python 2, you use 'u' before the command** \n",
    "\n",
    "\n",
    "- Industry standard\n",
    "- Over 128,00 characters\n",
    "- Canb be implemented by different character endings\n",
    "- UTF-8\n",
    "- UTF-16 \n",
    "- UTF-32"
   ]
  },
  {
   "cell_type": "code",
   "execution_count": null,
   "id": "c30c92d6",
   "metadata": {},
   "outputs": [],
   "source": []
  },
  {
   "cell_type": "code",
   "execution_count": null,
   "id": "87fdde54",
   "metadata": {},
   "outputs": [],
   "source": []
  },
  {
   "cell_type": "code",
   "execution_count": null,
   "id": "0fef739e",
   "metadata": {},
   "outputs": [],
   "source": []
  }
 ],
 "metadata": {
  "kernelspec": {
   "display_name": "Python 3",
   "language": "python",
   "name": "python3"
  },
  "language_info": {
   "codemirror_mode": {
    "name": "ipython",
    "version": 3
   },
   "file_extension": ".py",
   "mimetype": "text/x-python",
   "name": "python",
   "nbconvert_exporter": "python",
   "pygments_lexer": "ipython3",
   "version": "3.8.8"
  }
 },
 "nbformat": 4,
 "nbformat_minor": 5
}
